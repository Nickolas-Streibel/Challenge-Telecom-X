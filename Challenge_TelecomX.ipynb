{
  "nbformat": 4,
  "nbformat_minor": 0,
  "metadata": {
    "colab": {
      "private_outputs": true,
      "provenance": []
    },
    "kernelspec": {
      "name": "python3",
      "display_name": "Python 3"
    },
    "language_info": {
      "name": "python"
    }
  },
  "cells": [
    {
      "cell_type": "markdown",
      "source": [
        "Telecom X - Análise de Evasão de Clientes\n",
        "Você foi contratado como assistente de análise de dados na Telecom X e fará parte do projeto \"Churn de Clientes\". A empresa enfrenta um alto índice de cancelamentos e precisa entender os fatores que levam à perda de clientes.\n",
        "\n",
        "Seu desafio será coletar, tratar e analisar os dados, utilizando Python e suas principais bibliotecas para extrair insights valiosos. A partir da sua análise, os demais colegas da  equipe de Data Science poderá avançar para modelos preditivos e desenvolver estratégias para reduzir a evasão.\n",
        "\n",
        "O que você vai praticar:\n",
        "\n",
        "✅ Importar e manipular dados de uma API de forma eficiente.\n",
        "\n",
        "✅ Aplicar os conceitos de ETL (Extração, Transformação e Carga) na preparação dos dados.\n",
        "\n",
        "✅ Criar visualizações de dados estratégicas para identificar padrões e tendências.\n",
        "\n",
        "✅ Realizar uma Análise Exploratória de Dados (EDA) e gerar um relatório com insights relevantes."
      ],
      "metadata": {
        "id": "6LNnD_If9U5R"
      }
    },
    {
      "cell_type": "markdown",
      "source": [
        "Dicionário de dados\n",
        "\n",
        "**customerID:** número de identificação único de cada cliente\n",
        "\n",
        "**Churn:** se o cliente deixou ou não a empresa\n",
        "\n",
        "**gender:** gênero (masculino e feminino)\n",
        "\n",
        "**SeniorCitizen:** informação sobre um cliente ter ou não idade igual ou maior que 65 anos\n",
        "\n",
        "**Partner:** se o cliente possui ou não um parceiro ou parceira\n",
        "\n",
        "**Dependents:** se o cliente possui ou não dependentes\n",
        "\n",
        "**tenure:** meses de contrato do cliente\n",
        "\n",
        "**PhoneService:** assinatura de serviço telefônico\n",
        "\n",
        "**MultipleLines:** assisnatura de mais de uma linha de telefone\n",
        "\n",
        "**InternetService:** assinatura de um provedor internet\n",
        "\n",
        "**OnlineSecurity:** assinatura adicional de segurança online\n",
        "\n",
        "**OnlineBackup:** assinatura adicional de backup online\n",
        "\n",
        "**DeviceProtection:** assinatura adicional de proteção no dispositivo\n",
        "\n",
        "**TechSupport:** assinatura adicional de suporte técnico, menos tempo de espera\n",
        "\n",
        "**StreamingTV:** assinatura de TV a cabo\n",
        "\n",
        "**StreamingMovies:** assinatura de streaming de filmes\n",
        "\n",
        "**Contract:** tipo de contrato\n",
        "\n",
        "**PaperlessBilling:** se o cliente prefere receber online a fatura\n",
        "\n",
        "**PaymentMethod:** forma de pagamento\n",
        "\n",
        "**Charges.Monthly:** total de todos os serviços do cliente por mês\n",
        "\n",
        "**Charges.Total:** total gasto pelo cliente\n"
      ],
      "metadata": {
        "id": "j0M1vJn1_YDa"
      }
    },
    {
      "cell_type": "code",
      "source": [
        "import pandas as pd\n",
        "import numpy as np\n",
        "import matplotlib.pyplot as plt\n",
        "import matplotlib.patches as mpatches\n",
        "import seaborn as sns\n",
        "import plotly.express as px\n",
        "import plotly.subplots as sp\n",
        "import plotly.graph_objects as go\n"
      ],
      "metadata": {
        "id": "19_kL4tK-gqh"
      },
      "execution_count": null,
      "outputs": []
    },
    {
      "cell_type": "markdown",
      "source": [
        "# **Extração de dados do GitHub** (**E**TL)"
      ],
      "metadata": {
        "id": "wy5YqMEaBsxh"
      }
    },
    {
      "cell_type": "code",
      "source": [
        "url = 'https://raw.githubusercontent.com/ingridcristh/challenge2-data-science/refs/heads/main/TelecomX_Data.json'\n",
        "df = pd.read_json(url)"
      ],
      "metadata": {
        "id": "jpP3qIi7RsT8"
      },
      "execution_count": null,
      "outputs": []
    },
    {
      "cell_type": "code",
      "source": [
        "df.head()"
      ],
      "metadata": {
        "id": "jTC_j6yvR-F8"
      },
      "execution_count": null,
      "outputs": []
    },
    {
      "cell_type": "code",
      "source": [
        "df.tail()"
      ],
      "metadata": {
        "id": "L0oOK4Q_CKS5"
      },
      "execution_count": null,
      "outputs": []
    },
    {
      "cell_type": "code",
      "source": [
        "#Normalizando o arquivo Json\n",
        "\n",
        "registros = df.to_dict(orient='records') # convertendo todas as linhas em listas de dicionários:\n",
        "\n",
        "df_flat = pd.json_normalize(registros)\n",
        "\n",
        "df_flat.head(10)"
      ],
      "metadata": {
        "id": "IeLF8rfOEuPq"
      },
      "execution_count": null,
      "outputs": []
    },
    {
      "cell_type": "markdown",
      "source": [
        "Como a função que normaliza arquivos json só aceita dicionários ou listas de dicionarios, criamos uma variavel registros que é a conversão do o nosso dataframe em uma lista dicionarios orientado pelas linhas do Df, assim podemos aplicar a função de normalização em todo o dataframe direto sem ter que normalizar coluna a coluna."
      ],
      "metadata": {
        "id": "E5ro4WGycPGW"
      }
    },
    {
      "cell_type": "markdown",
      "source": [
        "# **Transformação dos dados** (E**T**L)"
      ],
      "metadata": {
        "id": "eAIzeMFHByD5"
      }
    },
    {
      "cell_type": "markdown",
      "source": [
        "### **Conhecendo nosso dataset!**"
      ],
      "metadata": {
        "id": "Vq8CEJghB2Yg"
      }
    },
    {
      "cell_type": "code",
      "source": [
        "type(df_flat) # Confirmando a criação do nosso Dataframe"
      ],
      "metadata": {
        "id": "5y6MuRznDsyp"
      },
      "execution_count": null,
      "outputs": []
    },
    {
      "cell_type": "code",
      "source": [
        "df_flat.shape #Verificando o número de linhas e colunas"
      ],
      "metadata": {
        "id": "rzBeD1M6D3Do"
      },
      "execution_count": null,
      "outputs": []
    },
    {
      "cell_type": "code",
      "source": [
        "df_flat.columns #Verificando o nome das colunas"
      ],
      "metadata": {
        "id": "e2OzRlhgThyq"
      },
      "execution_count": null,
      "outputs": []
    },
    {
      "cell_type": "markdown",
      "source": [
        "Podemos ver que agora temos um Dataframe com todas colunas condizentes com as variáveis passadas para a gente no inicio do projeto dentro do dicionário. Para uma análise de evasão de clientes, as colunas mais interressantes parecem ser: meses de contratos, gastos mensais, gasto total, tipo de contrato, forma de pagamento, seviços no geral e dentre outros."
      ],
      "metadata": {
        "id": "M0HwmDssT_6R"
      }
    },
    {
      "cell_type": "code",
      "source": [
        "df_flat.info()"
      ],
      "metadata": {
        "id": "pHJPgiTWB7YY"
      },
      "execution_count": null,
      "outputs": []
    },
    {
      "cell_type": "markdown",
      "source": [
        "Em uma primeira vista, após a normalização, podemos ver que temos um total de 21 colunas e 7267 linhas ou entradas. Dentro das colunas, não temos nenhum valor nulo e podemos confirmar isso posteriormente com alguns métodos.\n",
        "Algumas variaveis estão com tipagem objeto e talvez seja preciso formatar"
      ],
      "metadata": {
        "id": "PZv1HQwyCPJR"
      }
    },
    {
      "cell_type": "markdown",
      "source": [
        "### **Verificando inconsistências!**"
      ],
      "metadata": {
        "id": "pfUu5mMld87z"
      }
    },
    {
      "cell_type": "code",
      "source": [
        "#Checando valores ausentes (Null)\n",
        "missing_counts = df_flat.isnull().sum()\n",
        "print(\"Nulos por coluna:\\n\", missing_counts)\n"
      ],
      "metadata": {
        "id": "B8_Vzx9YB9-x"
      },
      "execution_count": null,
      "outputs": []
    },
    {
      "cell_type": "markdown",
      "source": [
        "Bom como já haviamos tido uma prévia com o método info, não temos valores ausentes dentro das nossas colunas."
      ],
      "metadata": {
        "id": "knn_69bif_-U"
      }
    },
    {
      "cell_type": "code",
      "source": [
        "#Verificando se há linhas duplicadas considerando todas as colunas\n",
        "num_duplicated = df_flat.duplicated().sum()\n",
        "print(f\"Total de linhas 100% duplicadas: {num_duplicated}\")"
      ],
      "metadata": {
        "id": "3FP2Ep1fjCgU"
      },
      "execution_count": null,
      "outputs": []
    },
    {
      "cell_type": "markdown",
      "source": [
        "### **Verificando a tipagem de dados**\n"
      ],
      "metadata": {
        "id": "sFvuv7aVoIQ8"
      }
    },
    {
      "cell_type": "code",
      "source": [
        "print(\"Tipos de dados (dtypes):\\n\")\n",
        "print(df_flat.dtypes)"
      ],
      "metadata": {
        "id": "b5C0REacn6_o"
      },
      "execution_count": null,
      "outputs": []
    },
    {
      "cell_type": "markdown",
      "source": [
        "Olhando primeiro para as variáveis numéricas, aparetemente a unica que precisamos tratar é a Charges.Total que precisa ser formatada para float64"
      ],
      "metadata": {
        "id": "NALkloAppUr8"
      }
    },
    {
      "cell_type": "code",
      "source": [
        "# Não podemos converter diretamente uma string para um float. Primeiro precisamos converter a string para um valor numérico\n",
        "df_flat['account.Charges.Total'] = pd.to_numeric(df_flat['account.Charges.Total'], errors='coerce')\n",
        "\n",
        "df_flat['account.Charges.Total'].isnull().sum()"
      ],
      "metadata": {
        "id": "Z8xOCrxBpHaz"
      },
      "execution_count": null,
      "outputs": []
    },
    {
      "cell_type": "markdown",
      "source": [
        "Após a conversão da string em numérico ficamos com 11 valores que resultaram NaN que precisam ser tratados."
      ],
      "metadata": {
        "id": "6xbdeJ6wtALY"
      }
    },
    {
      "cell_type": "code",
      "source": [
        "# Preenchendo os valores nulos por zero\n",
        "df_flat['account.Charges.Total'] = df_flat['account.Charges.Total'].fillna(0)\n",
        "df_flat['account.Charges.Total'] = df_flat['account.Charges.Total'].astype(np.float64)\n",
        "print(df_flat['account.Charges.Total'].dtype)"
      ],
      "metadata": {
        "id": "-GTSYfPLrZUo"
      },
      "execution_count": null,
      "outputs": []
    },
    {
      "cell_type": "code",
      "source": [
        "df_flat.info()"
      ],
      "metadata": {
        "id": "a4uwfCr3u1r-"
      },
      "execution_count": null,
      "outputs": []
    },
    {
      "cell_type": "markdown",
      "source": [
        "Agora todos os dados já estão com os tipos corretos e não temos valores nulos"
      ],
      "metadata": {
        "id": "6AHpy44du9d2"
      }
    },
    {
      "cell_type": "markdown",
      "source": [
        "### **Vamos melhorar os nomes das nossas colunas para ficar mais facil de trabalhar**"
      ],
      "metadata": {
        "id": "p5mD87Ikv0KN"
      }
    },
    {
      "cell_type": "code",
      "source": [
        "df_flat.columns = df_flat.columns.str.strip().str.lower().str.replace('.','_')"
      ],
      "metadata": {
        "id": "R_dilOqzwI0u"
      },
      "execution_count": null,
      "outputs": []
    },
    {
      "cell_type": "code",
      "source": [
        "colunas_traduzidas = {\n",
        "    'customerid': 'id_cliente',\n",
        "    'churn': 'evasao',\n",
        "    'customer_gender': 'genero',\n",
        "    'customer_seniorcitizen': 'cliente_idoso',\n",
        "    'customer_partner': 'possui_parceiro',\n",
        "    'customer_dependents': 'possui_dependentes',\n",
        "    'customer_tenure': 'tempo_contrato_meses',\n",
        "    'phone_phoneservice': 'servico_telefonico',\n",
        "    'phone_multiplelines': 'multiplas_linhas',\n",
        "    'internet_internetservice': 'tipo_internet',\n",
        "    'internet_onlinesecurity': 'seguranca_online',\n",
        "    'internet_onlinebackup': 'backup_online',\n",
        "    'internet_deviceprotection': 'protecao_dispositivo',\n",
        "    'internet_techsupport': 'suporte_tecnico',\n",
        "    'internet_streamingtv': 'streaming_tv',\n",
        "    'internet_streamingmovies': 'streaming_filmes',\n",
        "    'account_contract': 'tipo_contrato',\n",
        "    'account_paperlessbilling': 'fatura_online',\n",
        "    'account_paymentmethod': 'forma_pagamento',\n",
        "    'account_charges_monthly': 'gastos_mensais',\n",
        "    'account_charges_total': 'gastos_totais'\n",
        "}\n",
        "\n",
        "\n",
        "df_flat.rename(columns=colunas_traduzidas, inplace=True)\n",
        "\n",
        "df_flat.head(15)"
      ],
      "metadata": {
        "id": "dOfVVKjYxMem"
      },
      "execution_count": null,
      "outputs": []
    },
    {
      "cell_type": "markdown",
      "source": [
        "### **Removendo registros que podem atrapalhar as análises futuras**\n"
      ],
      "metadata": {
        "id": "PjHGU9jBz9W2"
      }
    },
    {
      "cell_type": "markdown",
      "source": [
        "Primeiramente, vamos ver quais valores existem dentro de cada coluna do nosso DataFrame"
      ],
      "metadata": {
        "id": "wyJDdvM4xemv"
      }
    },
    {
      "cell_type": "code",
      "source": [
        "for i in df_flat.select_dtypes(include='object').columns:\n",
        "    print(f\"{i}: {df_flat[i].unique()}\")"
      ],
      "metadata": {
        "id": "ZedcxyZ1z86n"
      },
      "execution_count": null,
      "outputs": []
    },
    {
      "cell_type": "markdown",
      "source": [
        "Bom, podemos ver que na primeira coluna existem valores vazios e precisamos arrumar isso.\n",
        "\n",
        "Além disso, é possivel perceber que existem muito valores do tipo booleano (Sim ou não) e seria interressante nos certificamos que todos esses valores seguem um padrão.\n"
      ],
      "metadata": {
        "id": "D6I-pZmJyEIP"
      }
    },
    {
      "cell_type": "code",
      "source": [
        "for i in df_flat.select_dtypes(include='number').columns:\n",
        "    print(f\"{i}: {df_flat[i].unique()}\")"
      ],
      "metadata": {
        "id": "CulrBVvvywy_"
      },
      "execution_count": null,
      "outputs": []
    },
    {
      "cell_type": "markdown",
      "source": [
        "Olhando agora para valores numéricos ja conseguimos confirmar certos problemas. Primeiramente, a coluna idosos é binária, ou seja, semanticamente representa sim e não assim como valores do tipo objeto. Entretanto é interessante que a gente realize uma padronização dos nossos dados.\n",
        "\n",
        "Para as demais colunas o unico valor que chama a atenção é que existem 0 meses para o tempo de contrato e isso não necessariamente é um erro, pois existem clientes que podem ter abertos as suas contas recentemente e ainda não contabilizou 1 mês. Contudo, contar esses clientes nos dados podem gerar problemas futuros, principalmente se precisarmos utilizar algum modelo de ML"
      ],
      "metadata": {
        "id": "0_6o2DaYzMk_"
      }
    },
    {
      "cell_type": "code",
      "source": [
        "#Verificando quais linhas possuem tempo de contrato igual a zero\n",
        "df_flat.query('tempo_contrato_meses == 0')"
      ],
      "metadata": {
        "id": "r3Aa8F9r1dQQ"
      },
      "execution_count": null,
      "outputs": []
    },
    {
      "cell_type": "markdown",
      "source": [
        "Temos então 11 clientes que possuem tempo de contrato igual a 0 e o interressante é que são os mesmo clientes que anteriomente ficaram com o tempo de contrato igual a NaN. Enfim, como estamos querendo analisar a evasão de clientes e não a entrada de novos clientes, eu vou remover essas 11 linhas do Df e assim garantir que isso não cause problemas futuramente.    "
      ],
      "metadata": {
        "id": "ZJx-8RDo3Pkw"
      }
    },
    {
      "cell_type": "code",
      "source": [
        "#Removendo os valores\n",
        "df_flat = df_flat[df_flat['tempo_contrato_meses'] != 0].copy()\n",
        "df_flat.query('tempo_contrato_meses == 0')"
      ],
      "metadata": {
        "id": "OWzRLjxd4Fa4"
      },
      "execution_count": null,
      "outputs": []
    },
    {
      "cell_type": "code",
      "source": [
        "df_flat.query('gastos_totais == 0')"
      ],
      "metadata": {
        "id": "GS1TGF0kEZOt"
      },
      "execution_count": null,
      "outputs": []
    },
    {
      "cell_type": "markdown",
      "source": [
        "Vamos agora ver os dados que estão em branco na evasão de clientes."
      ],
      "metadata": {
        "id": "_pr_5RekFJBq"
      }
    },
    {
      "cell_type": "code",
      "source": [
        "df_flat.query(\"evasao == '' \")"
      ],
      "metadata": {
        "id": "Iqq-gAxfEv0t"
      },
      "execution_count": null,
      "outputs": []
    },
    {
      "cell_type": "code",
      "source": [
        "#Removendo dados em branco\n",
        "df_flat = df_flat[df_flat['evasao'] != ''].copy()\n",
        "df_flat.query(\"evasao == '' \")"
      ],
      "metadata": {
        "id": "8BqAj_ZHFc--"
      },
      "execution_count": null,
      "outputs": []
    },
    {
      "cell_type": "code",
      "source": [
        "# Padronização do dataframe, trocando string que indicam que um serviço não ocorre para No\n",
        "colunas_internet = [\n",
        "    'seguranca_online',\n",
        "    'backup_online',\n",
        "    'protecao_dispositivo',\n",
        "    'suporte_tecnico',\n",
        "    'streaming_tv',\n",
        "    'streaming_filmes'\n",
        "]\n",
        "\n",
        "for col in colunas_internet:\n",
        "    if col in df_flat.columns:\n",
        "        df_flat[col] = df_flat[col].replace({'No internet service': 'No'})\n",
        "\n",
        "if 'multiplas_linhas' in df_flat.columns:\n",
        "    df_flat['multiplas_linhas'] = df_flat['multiplas_linhas'].replace({'No phone service': 'No'})\n",
        "\n",
        "for col in colunas_internet + ['multiplas_linhas']:\n",
        "    if col in df_flat.columns:\n",
        "        print(f\"{col}: {df_flat[col].unique()}\")"
      ],
      "metadata": {
        "id": "brTY0I_SM51i"
      },
      "execution_count": null,
      "outputs": []
    },
    {
      "cell_type": "code",
      "source": [
        "# Padronizando as variveis booleanas\n",
        "\n",
        "colunas_binarias = [\n",
        "    'evasao', 'possui_parceiro', 'possui_dependentes', 'servico_telefonico',\n",
        "    'multiplas_linhas', 'seguranca_online', 'backup_online',\n",
        "    'protecao_dispositivo', 'suporte_tecnico', 'streaming_tv',\n",
        "    'streaming_filmes', 'fatura_online'\n",
        "]\n",
        "\n",
        "# Converte 'Yes' para 1 e 'No' para 0\n",
        "df_flat[colunas_binarias] = df_flat[colunas_binarias].replace({'Yes': 1, 'No': 0})\n",
        "\n",
        "# Converte explicitamente as colunas para o tipo int64\n",
        "for col in colunas_binarias:\n",
        "    df_flat[col] = df_flat[col].astype('int64')\n",
        "\n",
        "# Verifique os tipos de dados após a conversão\n",
        "print(df_flat[colunas_binarias].dtypes)"
      ],
      "metadata": {
        "id": "0dYDqCBuHsT9"
      },
      "execution_count": null,
      "outputs": []
    },
    {
      "cell_type": "code",
      "source": [
        "df_flat"
      ],
      "metadata": {
        "id": "YRiGQ7NVXHoU"
      },
      "execution_count": null,
      "outputs": []
    },
    {
      "cell_type": "markdown",
      "source": [
        "Vamos fazer uma rapida verificação do nosso DataFrame limpo e transformado"
      ],
      "metadata": {
        "id": "wzPhyrAcSI_L"
      }
    },
    {
      "cell_type": "code",
      "source": [
        "for i in df_flat.select_dtypes(include='object').columns:\n",
        "    print(f\"{i}: {df_flat[i].unique()}\")"
      ],
      "metadata": {
        "id": "_gD3uBA2Ksa1"
      },
      "execution_count": null,
      "outputs": []
    },
    {
      "cell_type": "code",
      "source": [
        "for i in df_flat.select_dtypes(include='number').columns:\n",
        "    print(f\"{i}: {df_flat[i].unique()}\")"
      ],
      "metadata": {
        "id": "NAqsG-f7Ojbu"
      },
      "execution_count": null,
      "outputs": []
    },
    {
      "cell_type": "code",
      "source": [
        "df_flat.info()"
      ],
      "metadata": {
        "id": "mpfm6kjqSd_E"
      },
      "execution_count": null,
      "outputs": []
    },
    {
      "cell_type": "code",
      "source": [
        "df_clean = df_flat"
      ],
      "metadata": {
        "id": "FCnkVcKQSgUO"
      },
      "execution_count": null,
      "outputs": []
    },
    {
      "cell_type": "markdown",
      "source": [
        "### **Criando a coluna de contas Diarias**"
      ],
      "metadata": {
        "id": "fowEq-90Xfpm"
      }
    },
    {
      "cell_type": "code",
      "source": [
        "df_clean"
      ],
      "metadata": {
        "id": "HrpgRolPXpsU"
      },
      "execution_count": null,
      "outputs": []
    },
    {
      "cell_type": "code",
      "source": [
        "df_clean['contas_diarias'] = df_clean['gastos_mensais'] / 30\n",
        "df_clean['contas_diarias'] = df_clean['contas_diarias'].round(2)\n",
        "df_clean[['gastos_mensais','contas_diarias']].head(15)"
      ],
      "metadata": {
        "id": "9vxOjqEWg2Mt"
      },
      "execution_count": null,
      "outputs": []
    },
    {
      "cell_type": "markdown",
      "source": [
        "Conseguimos criar uma coluna que informa o valor das contas diárias de cada cliente com base nos gastos mensais"
      ],
      "metadata": {
        "id": "yUZhayuocIQv"
      }
    },
    {
      "cell_type": "code",
      "source": [
        "df_clean.info()"
      ],
      "metadata": {
        "id": "MsspMzTbcU_X"
      },
      "execution_count": null,
      "outputs": []
    },
    {
      "cell_type": "markdown",
      "source": [
        "# **Carregamento e análise** ET**L**\n"
      ],
      "metadata": {
        "id": "pA8x-pl-i5_w"
      }
    },
    {
      "cell_type": "code",
      "source": [
        "df_clean.describe()"
      ],
      "metadata": {
        "id": "CVC2K1AxhkjD"
      },
      "execution_count": null,
      "outputs": []
    },
    {
      "cell_type": "markdown",
      "source": [
        "Vamos para as principais ponderações com base na análise descritiva dos dados.\n",
        "\n",
        "Temos que todos os dados numéricos estão com as mesmas contagens. Pelo fato de estarmos trabalhando com dados binários os valores mínimos e máximos não terão muito significado para gente, assim como os quartis. Porém podemos levantar algumas observações com base na média e o desvio padrão.  \n",
        "\n",
        "- Primeiramente, a média de **evasão de clientes** da Telecom X é de 26.57% e o desvio padrão de 44.17%\n",
        "\n",
        "- Os valores de média para os **gastos mensais** são de aproximadamente R\\$ 64,80 reais e o desvio padrão de R\\$ 30,08 reais.\n",
        "\n",
        "- Já para os **gastos totais** temos uma média de R\\$ 2.283,30 reais e desvio padrão de R\\$2.226,77 reais.\n",
        "\n",
        "- Para as **contas diárias** a média ficou entre R\\$ 2,15 reais e um desvio padrão de R$ 1,00 real\n",
        "\n",
        "- O **tempo de contrato** médio em meses é de 32 e o desvio padrão de 24 meses. Com minimo de 1 mês e máximo de 72 meses\n",
        "\n",
        "Com isso e os demais dados podemos fazer um resumo do comportamento dos dados e buscar padrões:\n",
        "\n",
        "\n",
        "✅ Perfil Geral dos Clientes\n",
        "\n",
        "Clientes evadidos: 26,6%.\n",
        "\n",
        "Idosos: apenas 16,2% dos clientes. A maioria são jovens então\n",
        "\n",
        "Com parceiro(a): ~48%.\n",
        "\n",
        "Com dependentes: ~30%.\n",
        "\n",
        "⏳ Tempo de Contrato\n",
        "\n",
        "Média: 32 meses.\n",
        "\n",
        "25% dos clientes têm menos de 9 meses de contrato.\n",
        "\n",
        "Isso faz pensar que existe uma alta evasão no início do vínculo. Ainda antes de fechar 1 ano.\n",
        "\n",
        "☎️ Serviços adicionais\n",
        "\n",
        "Menos da metade dos clientes usa serviços como:\n",
        "\n",
        "Segurança online (28%)\n",
        "\n",
        "Backup online (34%)\n",
        "\n",
        "Streaming (38%)\n",
        "\n",
        "Clientes com mais serviços podem ser mais fiéis. Isso porque dependem da Telecom X para diversas necessidades e trocar esses serviços todos de uma mês é algo mais complicado.\n",
        "\n",
        "💰 Gastos\n",
        "\n",
        "Mensais: média de R$ 64,80.\n",
        "\n",
        "Totais: variam muito, até R$ 8.684.\n",
        "\n",
        "Contas diárias: média de R$ 2,15 — útil para normalizar análise de gastos.\n",
        "\n",
        "🧾 Fatura Online\n",
        "\n",
        "59% preferem fatura online — Confirma o fato de grande parte do publico tem um perfil mais jovem."
      ],
      "metadata": {
        "id": "M1TGPgFFcpXT"
      }
    },
    {
      "cell_type": "markdown",
      "source": [
        "## **Gráficos para visualizar a distribuição de evasão dos clientes**"
      ],
      "metadata": {
        "id": "BXppJ6jIlntu"
      }
    },
    {
      "cell_type": "code",
      "source": [
        "evasao_clientes = df_clean.evasao.value_counts()\n",
        "evasao_clientes_norm = df_clean.evasao.value_counts(normalize=True).round(4)*100"
      ],
      "metadata": {
        "id": "297NzYfgzL9O"
      },
      "execution_count": null,
      "outputs": []
    },
    {
      "cell_type": "code",
      "source": [
        "# Adicionando as cores\n",
        "VERMELHO_1,\tVERMELHO_2,\tVERMELHO_3 = \"#e23155\",\t\"#cc2c4e\", \"#b32742\"\n",
        "AZUL_1,\tAZUL_2,\tAZUL_3 = \"#203f75\",\t\"#1c3867\", \"#19325b\"\n",
        "BRANCO,\tCINZA_1, CINZA_2, CINZA_3, CINZA_4,\tCINZA_5 = \"#ffffff\", \"#ebebeb\",\t\"#d9d9d9\", \"#cccccc\", \"#555655\", \"#231f20\"\n",
        "AQUA_1,\tAQUA_2,\tAQUA_3 = \"#addcd4\",\t\"#9fccc5\", \"#96bfb9\""
      ],
      "metadata": {
        "id": "XUIwnygLAdcc"
      },
      "execution_count": null,
      "outputs": []
    },
    {
      "cell_type": "markdown",
      "source": [
        "### **Distribuição das evasões**"
      ],
      "metadata": {
        "id": "1CP58B8BP2T6"
      }
    },
    {
      "cell_type": "code",
      "source": [
        "# Observando a distribuição da evasão de clientes\n",
        "\n",
        "labels = ['Clientes mantidos', 'Clientes perdidos']\n",
        "\n",
        "fig, axes = plt.subplots(1, 2, figsize=(13, 8))\n",
        "\n",
        "# GRÁFICO DE BARRAS\n",
        "axes[0].bar(labels, evasao_clientes, color=[AQUA_2,VERMELHO_1])\n",
        "axes[0].set_facecolor(CINZA_1)\n",
        "\n",
        "# Anotações nos topos das barras\n",
        "for i, v in enumerate(evasao_clientes):\n",
        "    axes[0].text(i, v + 1, str(v), ha='center', va='bottom', color=AZUL_1, fontsize=12)\n",
        "\n",
        "axes[0].set_title('Distribuição em quantidade dos clientes perdidos pela Telecom X',\n",
        "                  fontsize=14, color=CINZA_5)\n",
        "axes[0].tick_params(axis='x', labelsize=12, colors=AZUL_1)\n",
        "axes[0].set_yticks([])\n",
        "axes[0].set_xlabel('', fontsize=12, color=AZUL_1)\n",
        "\n",
        "\n",
        "for spine in ['top', 'right', 'left']:\n",
        "    axes[0].spines[spine].set_visible(False)\n",
        "\n",
        "axes[0].grid(False)\n",
        "\n",
        "# GRÁFICO DE PIZZA\n",
        "\n",
        "axes[1].pie(evasao_clientes_norm, autopct='%1.1f%%', startangle=90, colors=[AQUA_2,VERMELHO_1])\n",
        "axes[1].set_title('Proporção de Evasão de Clientes', fontsize=16, color=CINZA_5)\n",
        "axes[1].axis('equal')\n",
        "\n",
        "plt.tight_layout()\n",
        "plt.show()"
      ],
      "metadata": {
        "id": "Pe-T2_9l5En-"
      },
      "execution_count": null,
      "outputs": []
    },
    {
      "cell_type": "markdown",
      "source": [
        "### **Avaliando valores numéricos junto a evasão de clientes**"
      ],
      "metadata": {
        "id": "q2VooAj6QALy"
      }
    },
    {
      "cell_type": "code",
      "source": [
        "# Gráfico 1: Boxplot da evasão vs tempo de contrato\n",
        "fig, axes = plt.subplots(1, 2, figsize=(14, 6))\n",
        "\n",
        "# Boxplot\n",
        "sns.boxplot(ax=axes[0], x='evasao', y='tempo_contrato_meses', data=df_clean, palette=[AQUA_3, VERMELHO_1])\n",
        "axes[0].set_facecolor(CINZA_1)\n",
        "axes[0].set_title('Tempo de Contrato vs Evasão', loc = 'left' , fontsize=14)\n",
        "axes[0].set_xlabel('Evasão (0 = Não, 1 = Sim)', fontsize=12)\n",
        "axes[0].set_ylabel('Tempo de Contrato (meses)', fontsize=12)\n",
        "axes[0].grid(True)\n",
        "\n",
        "for spine in ['top', 'right']:\n",
        "    axes[0].spines[spine].set_visible(False)\n",
        "\n",
        "# Gráfico 2: Histogramas sobrepostos com KDE\n",
        "sns.histplot(ax=axes[1], data=df_clean[df_clean['evasao'] == 0], x='tempo_contrato_meses', color=AQUA_3, label='Clientes mantidos', kde=True, bins=30)\n",
        "sns.histplot(ax=axes[1], data=df_clean[df_clean['evasao'] == 1], x='tempo_contrato_meses', color=VERMELHO_1, label='Clientes perdidos', kde=True, bins=30)\n",
        "\n",
        "axes[1].set_facecolor(CINZA_1)\n",
        "axes[1].set_title('Distribuição do Tempo de Contrato por Evasão', loc='left', fontsize=14)\n",
        "axes[1].set_xlabel('Tempo de Contrato (meses)', fontsize=12)\n",
        "axes[1].set_ylabel('Frequência', fontsize=12)\n",
        "\n",
        "for spine in ['top', 'right']:\n",
        "    axes[1].spines[spine].set_visible(False)\n",
        "\n",
        "axes[1].legend()\n",
        "\n",
        "plt.tight_layout()\n",
        "plt.show()"
      ],
      "metadata": {
        "id": "Nhjp4X0kWHzR"
      },
      "execution_count": null,
      "outputs": []
    },
    {
      "cell_type": "code",
      "source": [
        "# Criando uma cópia do dataframe com evasao como string\n",
        "df_plot = df_flat.copy()\n",
        "df_plot['evasao'] = df_plot['evasao'].map({0: 'Clientes mantidos', 1: 'Clientes perdidos'})\n",
        "\n",
        "variaveis = ['gastos_mensais', 'gastos_totais', 'contas_diarias']\n",
        "titulos = ['Gastos Mensais', 'Gastos Totais', 'Contas Diárias']\n",
        "\n",
        "# Subplots\n",
        "fig = sp.make_subplots(rows=1, cols=3, subplot_titles=titulos)\n",
        "\n",
        "# Mapeamento de cor\n",
        "mapa_cores = {\n",
        "    'Clientes mantidos': AQUA_3,\n",
        "    'Clientes perdidos': VERMELHO_1\n",
        "}\n",
        "\n",
        "# Adiciona cada scatter\n",
        "for i, var in enumerate(variaveis):\n",
        "    scatter = px.scatter(\n",
        "        df_plot,\n",
        "        x='tempo_contrato_meses',\n",
        "        y=var,\n",
        "        color='evasao',\n",
        "        color_discrete_map=mapa_cores,\n",
        "        opacity=0.5,\n",
        "        labels={\n",
        "            'evasao': 'Evasão',\n",
        "            'tempo_contrato_meses': 'Tempo de Contrato (meses)',\n",
        "            var: titulos[i]\n",
        "        }\n",
        "    )\n",
        "    show_legend = (i == 1)\n",
        "    for trace in scatter.data:\n",
        "        trace.showlegend = show_legend\n",
        "        fig.add_trace(trace, row=1, col=i+1)\n",
        "\n",
        "# Layout final\n",
        "fig.update_layout(\n",
        "    title='Relação entre Tempo de Contrato e Variáveis Financeiras',\n",
        "    showlegend=True,\n",
        "    legend_title='Evasão',\n",
        "    height=500,\n",
        "    xaxis2=dict(\n",
        "        title='Tempo de Contrato (meses)',\n",
        "        title_standoff=40\n",
        "    ),\n",
        "    yaxis_title='Variáveis Financeiras',\n",
        "    template='plotly_white'\n",
        ")\n",
        "\n",
        "fig.show()"
      ],
      "metadata": {
        "id": "aopiVUqJ_gOK"
      },
      "execution_count": null,
      "outputs": []
    },
    {
      "cell_type": "markdown",
      "source": [
        "### **Avaliando valores categóricos junto a evasão de clientes**"
      ],
      "metadata": {
        "id": "00nu9QnhQOUz"
      }
    },
    {
      "cell_type": "markdown",
      "source": [
        "### Evasão por gênero"
      ],
      "metadata": {
        "id": "Epie8PlwZWrb"
      }
    },
    {
      "cell_type": "code",
      "source": [
        "taxa_por_genero = df_flat.groupby('genero')['evasao'].mean()\n",
        "\n",
        "plt.figure(figsize=(6,4))\n",
        "plt.bar(taxa_por_genero.index, taxa_por_genero.values, color=[AQUA_2, VERMELHO_1])\n",
        "plt.title('Taxa de evasão por Gênero', fontsize=14, color=CINZA_5, loc='left')\n",
        "plt.ylabel('Proporção de Evasão', fontsize=12, color=CINZA_5)\n",
        "plt.ylim(0, taxa_por_genero.max() + 0.1)\n",
        "for i, v in enumerate(taxa_por_genero.values):\n",
        "    plt.text(i, v + 0.01, f\"{v:.2f}\", ha='center', color=CINZA_5)\n",
        "ax = plt.gca()\n",
        "ax.spines[['top','right']].set_visible(False)\n",
        "plt.show()"
      ],
      "metadata": {
        "id": "OWFk9FJvSzQq"
      },
      "execution_count": null,
      "outputs": []
    },
    {
      "cell_type": "markdown",
      "source": [
        "## Evasão por tipo de contrato"
      ],
      "metadata": {
        "id": "91WTCp5cZcOK"
      }
    },
    {
      "cell_type": "code",
      "source": [
        "taxa_por_contrato = df_flat.groupby('tipo_contrato')['evasao'].mean().sort_values()\n",
        "\n",
        "plt.figure(figsize=(10,6))\n",
        "plt.bar(taxa_por_contrato.index, taxa_por_contrato.values, color=AZUL_1)\n",
        "plt.title('Taxa de evasão por Tipo de Contrato', fontsize=14, color=CINZA_5, loc='left')\n",
        "plt.ylabel('Proporção de Evasão', fontsize=12, color=CINZA_5)\n",
        "plt.xticks(rotation=30)\n",
        "for i, v in enumerate(taxa_por_contrato.values):\n",
        "    plt.text(i, v + 0.01, f\"{v:.2f}\", ha='center')\n",
        "ax = plt.gca()\n",
        "ax.spines[['top','right']].set_visible(False)\n",
        "plt.tight_layout()\n",
        "plt.show()"
      ],
      "metadata": {
        "id": "nmPLt-I22_In"
      },
      "execution_count": null,
      "outputs": []
    },
    {
      "cell_type": "markdown",
      "source": [
        "## Evasão por forma de pagamento"
      ],
      "metadata": {
        "id": "VqfFQA1fZles"
      }
    },
    {
      "cell_type": "code",
      "source": [
        "taxa_por_pagamento = df_flat.groupby('forma_pagamento')['evasao'].mean().sort_values()\n",
        "\n",
        "plt.figure(figsize=(12,6))\n",
        "plt.barh(taxa_por_pagamento.index, taxa_por_pagamento.values, color=[AQUA_1, AQUA_1, AQUA_1, VERMELHO_1])\n",
        "plt.title('Taxa de evasão por Forma de Pagamento', fontsize=14, color=CINZA_5, loc ='left')\n",
        "plt.xlabel('Proporção de Evasão', fontsize=12, color=CINZA_5)\n",
        "for i, v in enumerate(taxa_por_pagamento.values):\n",
        "    plt.text(v + 0.005, i, f\"{v:.2f}\", va='center')\n",
        "ax = plt.gca()\n",
        "ax.spines[['top','right']].set_visible(False)\n",
        "plt.tight_layout()\n",
        "plt.show()"
      ],
      "metadata": {
        "id": "CzvUVKFoZlNg"
      },
      "execution_count": null,
      "outputs": []
    },
    {
      "cell_type": "markdown",
      "source": [
        "## **Distribuição de evasão por tipo de contrato**"
      ],
      "metadata": {
        "id": "wPqCyW-2jHk7"
      }
    },
    {
      "cell_type": "code",
      "source": [
        "ct = pd.crosstab(df_flat['tipo_contrato'], df_flat['evasao'], normalize='index')\n",
        "\n",
        "ct.plot.bar(stacked=True, color=[AQUA_2, VERMELHO_1], figsize=(13,9))\n",
        "plt.title('Distribuição de Evasão (%) por Tipo de Contrato', fontsize=14, color=CINZA_5, loc='left')\n",
        "plt.ylabel('Proporção', fontsize=12)\n",
        "plt.tick_params(axis='x', labelrotation = 45)\n",
        "plt.gca().spines[['top','right']].set_visible(False)\n",
        "plt.legend(['Ficaram','Perderam'], title='Status', loc='upper right')\n",
        "\n",
        "plt.show()\n"
      ],
      "metadata": {
        "id": "uET4HG7ia_Ri"
      },
      "execution_count": null,
      "outputs": []
    },
    {
      "cell_type": "markdown",
      "source": [
        "## **Evasão por tipo de internet**"
      ],
      "metadata": {
        "id": "qCTPMgmCexX6"
      }
    },
    {
      "cell_type": "code",
      "source": [
        "taxa_por_internet = df_flat.groupby('tipo_internet')['evasao'].mean().sort_values()\n",
        "\n",
        "plt.figure(figsize=(10,6))\n",
        "plt.bar(taxa_por_internet.index, taxa_por_internet.values, color=AQUA_3)\n",
        "plt.title('Taxa de evasão por Tipo de Internet', fontsize=14, color=CINZA_5, loc='left')\n",
        "plt.ylabel('Proporção de Evasão', fontsize=12, color=CINZA_5)\n",
        "plt.xticks(rotation=30)\n",
        "for i, v in enumerate(taxa_por_internet.values):\n",
        "    plt.text(i, v + 0.01, f\"{v:.2f}\", ha='center')\n",
        "ax = plt.gca()\n",
        "ax.spines[['top','right']].set_visible(False)\n",
        "plt.tight_layout()\n",
        "plt.show()"
      ],
      "metadata": {
        "id": "NRh6MQ7ub2Ey"
      },
      "execution_count": null,
      "outputs": []
    },
    {
      "cell_type": "markdown",
      "source": [
        "## **Evasão por fatura**"
      ],
      "metadata": {
        "id": "-h2ymzf6fWbR"
      }
    },
    {
      "cell_type": "code",
      "source": [
        "taxa_por_fatura = df_flat.groupby('fatura_online')['evasao'].mean().sort_index()\n",
        "\n",
        "plt.figure(figsize=(10,8))\n",
        "plt.bar(taxa_por_fatura.index.map({0:'Papel',1:'Online'}), taxa_por_fatura.values, color=AZUL_3)\n",
        "plt.title('Taxa de evasão por Fatura Online', fontsize=14, color=CINZA_5, loc='left')\n",
        "plt.ylabel('Proporção de Evasão', fontsize=12, color=CINZA_5)\n",
        "for i, v in enumerate(taxa_por_fatura.values):\n",
        "    plt.text(i, v + 0.01, f\"{v:.2f}\", ha='center')\n",
        "ax = plt.gca()\n",
        "ax.spines[['top','right']].set_visible(False)\n",
        "plt.tight_layout()\n",
        "plt.show()"
      ],
      "metadata": {
        "id": "DU6ouNNhe_cp"
      },
      "execution_count": null,
      "outputs": []
    },
    {
      "cell_type": "markdown",
      "source": [
        "## **Evasão por serviços**"
      ],
      "metadata": {
        "id": "XkdedaxTfXMZ"
      }
    },
    {
      "cell_type": "code",
      "source": [
        "service_columns = [\n",
        "    'servico_telefonico', 'multiplas_linhas', 'seguranca_online',\n",
        "    'backup_online', 'protecao_dispositivo', 'suporte_tecnico',\n",
        "    'streaming_tv', 'streaming_filmes'\n",
        "]\n",
        "\n",
        "\n",
        "taxa_por_servico = df_flat[service_columns + ['evasao']].groupby(service_columns).mean()['evasao']\n",
        "\n",
        "taxa_ativos = {}\n",
        "for serv in service_columns:\n",
        "    taxa_ativos[serv] = df_flat.loc[df_flat[serv] == 1, 'evasao'].mean()\n",
        "\n",
        "#Plot\n",
        "fig, ax = plt.subplots(figsize=(10, 6))\n",
        "serv_names = [s.replace('_', ' ').title() for s in service_columns]\n",
        "valores = [taxa_ativos[s] for s in service_columns]\n",
        "\n",
        "ax.bar(serv_names, valores, color=AQUA_3)\n",
        "ax.set_title('Taxa de Evasão por Serviço Ativo', fontsize=14, color=CINZA_5, loc='left')\n",
        "ax.set_ylabel('Proporção de Evasão', fontsize=12, color=CINZA_5)\n",
        "\n",
        "\n",
        "ax.set_xticklabels(serv_names, rotation=45, ha='right', color=CINZA_5)\n",
        "ax.set_xticks(serv_names)\n",
        "\n",
        "\n",
        "for i, v in enumerate(valores):\n",
        "    ax.text(i, v + 0.01, f\"{v:.2f}\", ha='center', color=CINZA_5)\n",
        "\n",
        "for spine in ['top', 'right']:\n",
        "    ax.spines[spine].set_visible(False)\n",
        "\n",
        "plt.tight_layout()\n",
        "plt.show()\n"
      ],
      "metadata": {
        "id": "ThnXAyFQfLph"
      },
      "execution_count": null,
      "outputs": []
    },
    {
      "cell_type": "code",
      "source": [
        "df_clean[service_columns].sum()"
      ],
      "metadata": {
        "id": "5qJPlISrfUZB"
      },
      "execution_count": null,
      "outputs": []
    },
    {
      "cell_type": "markdown",
      "source": [
        "# ATIVIDADE EXTRA CORRELADAÇÃO DE DADOS"
      ],
      "metadata": {
        "id": "B364zcZsnMBy"
      }
    },
    {
      "cell_type": "code",
      "source": [
        "service_columns = [\n",
        "    'servico_telefonico', 'multiplas_linhas', 'seguranca_online',\n",
        "    'backup_online', 'protecao_dispositivo', 'suporte_tecnico',\n",
        "    'streaming_tv', 'streaming_filmes'\n",
        "]\n",
        "\n",
        "num_cols = ['evasao', 'tempo_contrato_meses', 'gastos_mensais',\n",
        "            'gastos_totais', 'contas_diarias'] + service_columns\n",
        "\n",
        "corr_df = df_flat[num_cols].corr()\n",
        "\n",
        "plt.figure(figsize=(12,8))\n",
        "sns.heatmap(corr_df, annot=True, fmt=\".2f\", cmap=\"Blues\", vmin=-1, vmax=1,\n",
        "            cbar_kws={'label': 'Coeficiente de Correlação'})\n",
        "plt.title(\"Matriz de Correlação com Variáveis de Serviços Individuais\", color=CINZA_5)\n",
        "plt.xticks(rotation=45, ha='right')\n",
        "plt.tight_layout()\n",
        "plt.show()"
      ],
      "metadata": {
        "id": "MAgB-QJlrCXC"
      },
      "execution_count": null,
      "outputs": []
    },
    {
      "cell_type": "code",
      "source": [
        "plt.figure(figsize=(6,4))\n",
        "sns.boxplot(x='evasao', y='contas_diarias', data=df_flat,\n",
        "            palette=[AQUA_2, VERMELHO_1])\n",
        "plt.title(\"Contas Diárias x Evasão\", color=CINZA_5)\n",
        "plt.xlabel(\"Evasão (0 = Ficou, 1 = Saiu)\")\n",
        "plt.ylabel(\"Contas Diárias\")\n",
        "plt.show()"
      ],
      "metadata": {
        "id": "cWzzyddBno6q"
      },
      "execution_count": null,
      "outputs": []
    },
    {
      "cell_type": "code",
      "source": [
        "plt.figure(figsize=(6,4))\n",
        "sns.violinplot(x='evasao', y='contas_diarias', data=df_flat,\n",
        "               palette=[AQUA_2, VERMELHO_1])\n",
        "plt.title(\"Distribuição de Contas Diárias por Evasão\", color=CINZA_5)\n",
        "plt.xlabel(\"Evasão (0 = Ficou, 1 = Saiu)\")\n",
        "plt.ylabel(\"Contas Diárias\")\n",
        "plt.show()"
      ],
      "metadata": {
        "id": "89LmtSD2nq1y"
      },
      "execution_count": null,
      "outputs": []
    },
    {
      "cell_type": "markdown",
      "source": [
        "# Relatório Final\n",
        "\n",
        "## **Projeto Telecom X: Análise de Evasão de Clientes (Churn)**\n",
        "\n",
        "---\n",
        "\n",
        "### 1. **Introdução**\n",
        "\n",
        "A evasão de clientes (churn) é sempre um grande desafio para operadoras de telecomunicações. Nesta análise, recebemos a demanda de exploramos dados de mais de 7 000 clientes da Telecom X para entender quem está cancelando sua conta, quando e por quê. Nosso objetivo é identificar padrões de comportamento e fatores de risco que permitam à liderança tomar decisões estratégicas de retenção, reduzindo a perda de receita e fortalecendo o relacionamento com o cliente.\n",
        "\n",
        "---\n",
        "\n",
        "### 2. **Limpeza e Tratamento de Dados**\n",
        "\n",
        "- Importação e flattening\n",
        "\n",
        "    - Lemos o JSON bruto via pd.read_json e “achamos” todas as colunas aninhadas com pd.json_normalize.\n",
        "\n",
        "- Renomeação de colunas\n",
        "\n",
        "    - Padronizamos nomes para snake_case e traduzimos para o português (por exemplo, customerid → id_cliente, Churn → evasao, InternetService → tipo_internet etc.).\n",
        "\n",
        "- Conversão de tipos e tratamento de ausentes\n",
        "\n",
        "    - Transformamos gastos_mensais, gastos_totais e tempo_contrato_meses em numéricos, corrigimos strings inválidas, como NaN, e preenchemos zeros onde fazia sentido.\n",
        "\n",
        "    - Identificamos e removemos duplicatas e padronizamos respostas como “No internet service” → “No”.\n",
        "\n",
        "- Padronização de valores Binários para inteiros\n",
        "\n",
        "    - Substituímos todos os “Yes”/“No” por 1/0 nas colunas de serviços e preferências, garantindo int64.\n",
        "\n",
        "- Criação de novas métricas\n",
        "\n",
        "    - contas_diarias = gastos_totais / tempo_contrato_meses\n",
        "\n",
        "    - num_services = soma dos 8 serviços extras (telefone, múltiplas linhas, segurança online, backup, proteção de dispositivo, suporte técnico, streaming de TV e filmes).\n",
        "\n",
        "---\n",
        "\n",
        "### 3. **Análise Exploratória de Dados**\n",
        "\n",
        "    3.1 Perfil Geral\n",
        "\n",
        "- Taxa de churn: 26,6% dos clientes cancelaram.\n",
        "\n",
        "- Tempo de contrato: mediana de 29 meses; 25% dos clientes têm até 9 meses de vínculo.\n",
        "\n",
        "- Gastos mensais: média de R\\$ 64,80; contas diárias média de R\\$ 2,15.\n",
        "\n",
        "      3.2 Principais análises bivariadas\n",
        "\n",
        "- Contrato vs. Evasão\n",
        "    - Month-to-month: 42,7% de churn\n",
        "\n",
        "    - One-year: 11,3%\n",
        "\n",
        "    - Two-year: 2,9%\n",
        "\n",
        "- Tempo de Contrato\n",
        "    - Boxplot e histogramas mostram que clientes que realizam a evasão de contranto concentram-se em vínculos muito curtos (majoritariamente abaixo de 12 meses).\n",
        "\n",
        "- Gastos vs. Evasão\n",
        "    - Scatter plots de tempo × gastos mensais, totais e contas diárias indicam que churners têm maior concentração em baixos valores diários e mensais.\n",
        "\n",
        "- Serviços Extras\n",
        "    - Taxas de churn entre clientes em cada serviço:\n",
        "\n",
        "    - Suporte Técnico: 42,2%\n",
        "\n",
        "    - Segurança Online: 41,8%\n",
        "\n",
        "    - Streaming TV e Filmes: ~40%\n",
        "\n",
        "- Demografia e Pagamentos\n",
        "    - Idosos: 41,7% churn\n",
        "\n",
        "    - Cheque Eletrônico: 45,3% churn\n",
        "\n",
        "    - Fatura sem papel: 33,8% churn\n",
        "\n",
        "    - Sem parceiro ou sem dependentes: ~32% churn\n",
        "\n",
        "          3.3 Correlação de Variáveis Numéricas\n",
        "\n",
        "- Matriz de correlação mostra relações moderadas entre churn e:\n",
        "\n",
        "    - Tempo de contrato\n",
        "\n",
        "    - Serviços\n",
        "\n",
        "    - Contas diárias\n",
        "\n",
        "---\n",
        "\n",
        "### 4. **Conclusões e Insights**\n",
        "\n",
        "- Risco elevado nos primeiros meses: quase metade dos cancelamentos ocorre dentro dos 12 meses iniciais.\n",
        "\n",
        "- Contratos longos reduzem churn: planos de 1–2 anos apresentam evasão muito menor que o plano mensal.\n",
        "\n",
        "- Pacotes de serviços fidelizam: clientes com mais serviços extras têm menor churn.\n",
        "\n",
        "- Qualidade de Fibra Óptica: apesar da alta demanda, apresenta churn alto — precisa de investigação para identificar se o serviço está entregando uma boa qualidade para os clientes.  \n",
        "\n",
        "- Método de pagamento e perfil: cheque eletrônico e clientes idosos estão em maior risco.\n",
        "\n",
        "---\n",
        "\n",
        "### 5. **Recomendações**\n",
        "\n",
        "- Programa de acompanhamento nos primeiros 12 meses, com ofertas de trial de serviços extras.\n",
        "\n",
        "- Incentivos Contratuais para fazer com que o clientes contrate periodos maiores\n",
        "\n",
        "- Descontos e benefícios para migração de Month-to-month para contratos anuais logo no início.\n",
        "\n",
        "- Otimização de Serviços\n",
        "\n",
        "- Auditoria de performance da Fibra Óptica e buscar escutar os clientes com formulários de satisfação ou ainda registros com o motivo do cancelamento.\n",
        "\n",
        "- Promoção de pacotes combinados (suporte + segurança + backup) com valor agregado. No geral, clientes que contratam mais serviços de uma mesma empresa, tendem a não querer cancelar o vinculo, pois é mais complicado migrar para outras plataformas.\n",
        "\n",
        "- Aprimoramento de Pagamentos\n",
        "\n",
        "- Revisão da experiência de cheque eletrônico e incentivos ao uso de métodos automáticos.\n",
        "\n",
        "- Ações específicas para idosos, solteiros e sem dependentes, com canais de suporte dedicados. Buscando inserir o idoso dentro dos programas de beneficio da empresa e assim demonstrando que a empresa preza uma serviço atensioso aos seus clientes.\n",
        "\n",
        "- Clientes solteiros e sem dependentes é a parte mais difícel de evitar evasão, pois provavelmente o perfil desses clientes é baseado em pessoas jovens, sem moradia fixa, que estão construindo a vida, ou seja, muitas mudanças acontecendo que podem levar a evasão de contrato.  \n",
        "\n",
        "---\n",
        "\n",
        "### **Próximos Passos**\n",
        "\n",
        "- Desenvolver modelo de ML para entender melhor o comportamento dos dados.\n",
        "\n",
        "- Coletar dados de linha do tempo (datas de contrato e churn), histórico de atendimento e NPS.\n",
        "\n",
        "- Monitorar indicadores em dashboards semanais para avaliar o impacto das ações.Buscar realizar pesquisas de satisfação e registras sempre os motivos do cancelamento, assim como, qual serviço foi cancelado que gerou a evasão desse cliente.\n",
        "\n",
        "- Com essas iniciativas, a Telecom X terá ideias sólidas para reduzir seu churn com base nos dados, dessa forma, elevando a satisfação dos clientes e maximizando o valor de vida útil de cada contrato."
      ],
      "metadata": {
        "id": "vaQqntybrbBK"
      }
    }
  ]
}